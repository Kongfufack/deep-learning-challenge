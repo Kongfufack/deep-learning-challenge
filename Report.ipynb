{
 "cells": [
  {
   "attachments": {},
   "cell_type": "markdown",
   "metadata": {},
   "source": [
    "Overview of the analysis: Explain the purpose of this analysis.\n",
    "\n",
    "Answer:    \n",
    "\n",
    "The purpose of this analysis is to create a deep learning model that can help Alphabet select the applicants for funding with the best chance of success in their ventures."
   ]
  },
  {
   "attachments": {},
   "cell_type": "markdown",
   "metadata": {},
   "source": [
    "Data Preprocessing\n",
    "\n",
    "1. What variable(s) are the target(s) for your model?\n",
    "Answer: \n",
    "The target variable for the model is IS_SUCCESSFUL\n",
    "\n",
    "2. What variable(s) are the features for your model?\n",
    "Answer:The features in the model include all other variables such as APPLICATION_TYPE, AFFILIATION, CLASSIFICATION, USE_CASE, ORGANIZATION, STATUS, INCOME_AMT.\n",
    "\n",
    "3. What variable(s) should be removed from the input data because they are neither targets nor features?\n",
    "Answer:The variables EIN and NAME were removed from the input data\n"
   ]
  },
  {
   "attachments": {},
   "cell_type": "markdown",
   "metadata": {},
   "source": [
    "Compiling, Training, and Evaluating the Model\n",
    "\n",
    "1. How many neurons, layers, and activation functions did you select for your neural network model, and why?\n",
    "Answer: For the neural network model, three hidden layers were selected with 150, 75, and 30 neurons respectively.\n",
    "The ReLU activation function was used for the hidden layers due to its efficiency in dealing with the vanishing gradient problem. The output layer used the sigmoid activation function because our model is a binary classifier, and sigmoid function outputs probabilities which is ideal for binary classification.\n",
    "\n",
    "2. Were you able to achieve the target model performance?\n",
    "Answer: The initial model achieved an accuracy of around 72.7%. And I tried to add the layers and neurons to improve the model performance. However, the model performance did not improve at all. Don't know why.\n",
    "\n",
    "3. What steps did you take in your attempts to increase model performance?\n",
    "Answer: I tried: \n",
    "1. Increased the number of neurons in the hidden layers.\n",
    "2. Added a third hidden layer.\n",
    "3. Increased the number of training epochs.\n"
   ]
  },
  {
   "attachments": {},
   "cell_type": "markdown",
   "metadata": {},
   "source": [
    " Summary\n",
    "\n",
    " Answer: The final result of my analysis is that the model performance did not improve at all. The result is listing below:\n",
    " 268/268 - 0s - loss: 0.5617 - accuracy: 0.7263 - 337ms/epoch - 1ms/step\n",
    "Loss: 0.5616551041603088, Accuracy: 0.7262973785400391\n",
    "\n",
    "I have tried add 1 more layer, and the result still the same. After that I tried add more units from 100/50 to 150/75/30, and the result still the same. I also tried to increase the epochs from 50 to 100 and then to 200, and the result still the same. I don't know why the model performance did not improve at all.\n",
    "\n",
    "So I assume, to use a different type of machine learning model  might be able to improve the model performance."
   ]
  }
 ],
 "metadata": {
  "language_info": {
   "name": "python"
  },
  "orig_nbformat": 4
 },
 "nbformat": 4,
 "nbformat_minor": 2
}
